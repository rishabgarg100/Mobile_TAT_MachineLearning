{
 "cells": [
  {
   "cell_type": "code",
   "execution_count": 87,
   "metadata": {},
   "outputs": [],
   "source": [
    "import pandas\n",
    "import numpy as np\n",
    "import matplotlib.pyplot as plt\n",
    "from sklearn import metrics\n",
    "from sklearn import preprocessing\n",
    "from sklearn.preprocessing import StandardScaler"
   ]
  },
  {
   "cell_type": "code",
   "execution_count": 88,
   "metadata": {},
   "outputs": [],
   "source": [
    "orignal_data = pandas.read_csv('problem_2_train.csv' , index_col=0)\n",
    "testdata = pandas.read_csv('problem_2_test.csv', index_col=0)"
   ]
  },
  {
   "cell_type": "code",
   "execution_count": 89,
   "metadata": {},
   "outputs": [],
   "source": [
    "def preprocess(data):\n",
    "    label_encoder = preprocessing.LabelEncoder() \n",
    "    data['mobmake']= label_encoder.fit_transform(data['mobmake']) \n",
    "    data['custpincodecategory']= label_encoder.fit_transform(data['custpincodecategory']) \n",
    "    data['claimtype']= label_encoder.fit_transform(data['claimtype']) \n",
    "    data['memcreateddate']=pandas.to_datetime(data['memcreateddate'], errors='coerce', format='%Y-%m-%d')\n",
    "    data['mobilepurchasedate']=pandas.to_datetime(data['mobilepurchasedate'], errors='coerce', format='%Y-%m-%d')\n",
    "    data['claimintdate']=pandas.to_datetime(data['claimintdate'], errors='coerce', format='%Y-%m-%d')\n",
    "    data['pickupStartdate']=pandas.to_datetime(data['pickupStartdate'], errors='coerce', format='%Y-%m-%d')\n",
    "    data['memandpurchasediff']=((data['memcreateddate']-data['mobilepurchasedate']).dt.days).astype(int)\n",
    "    data['claimpurchasediff']=((data['claimintdate']-data['mobilepurchasedate']).dt.days).astype(int)\n",
    "    data['pickupclaimdiff']=((data['pickupStartdate']-data['claimintdate']).dt.days).astype(int)\n",
    "    data['pickanddeliversame']=np.where(data['pickuppartnerid']==data['deliverypartnerid'] ,1 ,0 )\n",
    "    data['pincode']=np.where(data['custpincode']==data['hubpincode'],0,data['hubpincode'])\n",
    "    data.drop(['memcreateddate' ,'mobilepurchasedate' , 'claimintdate' ,'pickupStartdate'] ,axis=1 , inplace = True) \n",
    "    names = data.columns\n",
    "    scaler = StandardScaler()\n",
    "    text=scaler.fit_transform(data)\n",
    "    data_scaled =pandas.DataFrame(text, columns=names)\n",
    "    #data_scaled.head()\n",
    "    return data_scaled"
   ]
  },
  {
   "cell_type": "code",
   "execution_count": 127,
   "metadata": {},
   "outputs": [],
   "source": [
    "def featureextraction(d):\n",
    "    feature_cols = ['mobmake', 'hubid',\n",
    "       'pickanddeliversame', 'insuranceCompanyId', 'custpincodecategory',\n",
    "       'claimtype',  'servicecntrid' , \"memandpurchasediff\",\"claimpurchasediff\",\"pickupclaimdiff\" ]\n",
    "    X=d[feature_cols]\n",
    "    return X"
   ]
  },
  {
   "cell_type": "code",
   "execution_count": 90,
   "metadata": {},
   "outputs": [],
   "source": [
    "data=preprocess(orignal_data)\n",
    "testing=preprocess(testdata)\n",
    "X=featureextraction(data)\n",
    "y_orignal=orignal_data['tat_in_days']\n",
    "y=data['tat_in_days']"
   ]
  },
  {
   "cell_type": "code",
   "execution_count": 126,
   "metadata": {},
   "outputs": [],
   "source": [
    "mean_of_array = orignal_data.mean(axis=0)\n",
    "std_of_array = orignal_data.std(axis=0)"
   ]
  },
  {
   "cell_type": "code",
   "execution_count": 138,
   "metadata": {},
   "outputs": [
    {
     "name": "stdout",
     "output_type": "stream",
     "text": [
      "0.994769608668839\n"
     ]
    }
   ],
   "source": [
    "\n",
    "from sklearn.model_selection import train_test_split\n",
    "from sklearn.linear_model import LinearRegression\n",
    "X_train ,X_test , y_train , y_test = train_test_split(X , y , random_state=1) \n",
    "line  = LinearRegression(normalize=True)\n",
    "line.fit(X_train, y_train)\n",
    "y_pred = line.predict(X_test)\n",
    "print(np.sqrt(metrics.mean_squared_error(y_test , y_pred)))"
   ]
  },
  {
   "cell_type": "code",
   "execution_count": 129,
   "metadata": {},
   "outputs": [],
   "source": [
    "test_features= featureextraction(testing)\n",
    "test_predict = line.predict(test_features)"
   ]
  },
  {
   "cell_type": "code",
   "execution_count": 130,
   "metadata": {},
   "outputs": [],
   "source": [
    "ans=(test_predict*std_of_array['tat_in_days'])+mean_of_array['tat_in_days']"
   ]
  },
  {
   "cell_type": "code",
   "execution_count": 131,
   "metadata": {},
   "outputs": [],
   "source": [
    "pandas.DataFrame(ans ,index=None, columns=['Prediction'] ).to_csv('results.csv')"
   ]
  },
  {
   "cell_type": "code",
   "execution_count": null,
   "metadata": {},
   "outputs": [],
   "source": []
  },
  {
   "cell_type": "code",
   "execution_count": null,
   "metadata": {},
   "outputs": [],
   "source": []
  }
 ],
 "metadata": {
  "kernelspec": {
   "display_name": "Python 3",
   "language": "python",
   "name": "python3"
  },
  "language_info": {
   "codemirror_mode": {
    "name": "ipython",
    "version": 3
   },
   "file_extension": ".py",
   "mimetype": "text/x-python",
   "name": "python",
   "nbconvert_exporter": "python",
   "pygments_lexer": "ipython3",
   "version": "3.7.1"
  }
 },
 "nbformat": 4,
 "nbformat_minor": 2
}
